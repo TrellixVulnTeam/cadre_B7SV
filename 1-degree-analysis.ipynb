{
 "cells": [
  {
   "cell_type": "code",
   "execution_count": 1,
   "metadata": {},
   "outputs": [],
   "source": [
    "import igraph as ig\n",
    "import pandas as pd\n",
    "import numpy as np\n",
    "import xnet as xn\n",
    "import os"
   ]
  },
  {
   "cell_type": "code",
   "execution_count": null,
   "metadata": {},
   "outputs": [],
   "source": [
    "!pip install python-igraph"
   ]
  },
  {
   "cell_type": "code",
   "execution_count": 2,
   "metadata": {},
   "outputs": [],
   "source": [
    "MAGColumnTypes = {\n",
    "\t\"journal_id\": object,\n",
    "\t\"issue\": object,\n",
    "\t\"first_name\":object,\n",
    "\t\"last_name\":object,\n",
    "\t\"volume\":object,\n",
    "\t\"conference_instance_id\":object,\n",
    "\t\"conference_series_id\":object,\n",
    "\t\"doc_type\":object,\n",
    "\t\"doi\":object,\n",
    "\t\"original_venue\":object,\n",
    "\t\"publisher\":object,\n",
    "\t\"authors_last_known_affiliation_id\":object,\n",
    "\t\"field_of_study_id\":object,\n",
    "\t\"paper_publisher\":object,\n",
    "\t\"journal_display_name\":object,\n",
    "\t\"journal_issn\":object,\n",
    "\t\"paper_first_page\":object,\n",
    "\t\"paper_reference_id\":object,\n",
    "\t\"paper_abstract\":object,\n",
    "}\n",
    "\n",
    "#def MAGQuery2xnet(queryID):\n",
    "queryID = \"99d71a33-7805-4bff-be2a-8c6c78381688\"\n",
    "nodesData = pd.read_csv(\"../query-results/%s.csv\"%queryID, dtype=MAGColumnTypes)\n",
    "edgesData = pd.read_csv(\"../query-results/%s_edges.csv\"%queryID)"
   ]
  },
  {
   "cell_type": "code",
   "execution_count": 3,
   "metadata": {},
   "outputs": [],
   "source": [
    "# Replacing NaN for empty string\n",
    "for key in MAGColumnTypes:\n",
    "\tif(key in nodesData):\n",
    "\t\tnodesData[key].fillna(\"\",inplace=True)\n",
    "\n",
    "# Generating continous indices for papers\n",
    "index2ID  = nodesData[\"paper_id\"].tolist()\n",
    "ID2Index = {id:index for index, id in enumerate(index2ID)}\n",
    "\n",
    "# Hack to account for 2 degree capitalized \"FROM\"\n",
    "fromKey = \"From\";\n",
    "if(fromKey not in edgesData):\n",
    "\tfromKey = \"FROM\""
   ]
  },
  {
   "cell_type": "code",
   "execution_count": 4,
   "metadata": {},
   "outputs": [],
   "source": [
    "# Converting edges from IDs to new indices\n",
    "# Invert edges so it means a citation between from to to\n",
    "edgesZip = zip(edgesData[fromKey].tolist(),edgesData[\"To\"].tolist())\n",
    "edgesList = [(ID2Index[toID],ID2Index[fromID]) for fromID,toID in edgesZip if fromID in ID2Index and toID in ID2Index]\n",
    "\n",
    "vertexAttributes = {key:nodesData[key].tolist() for key in nodesData}\n",
    "\n",
    "\n",
    "for key in nodesData:\n",
    "\tnodesData[key].tolist();\n",
    "\n",
    "graph = ig.Graph(\n",
    "\tn=len(index2ID),\n",
    "\tedges=edgesList,\n",
    "\tdirected=True,\n",
    "\tvertex_attrs=vertexAttributes\n",
    ");\n",
    "\n",
    "# verticesToDelete = np.where(np.logical_or(np.array(graph.indegree())==0,np.array(graph.degree())==0))[0]\n",
    "# graph.delete_vertices(verticesToDelete)\n",
    "\n",
    "graph.vs[\"KCore\"] = graph.shell_index(mode=\"IN\");\n",
    "graph.vs[\"year\"] = [int(s[0:4]) for s in graph.vs[\"date\"]];\n",
    "# graph.vs[\"Community\"] = [str(c) for c in graph.community_infomap().membership];\n",
    "os.makedirs(\"../networks\", exist_ok=True)\n",
    "xn.igraph2xnet(graph,\"../networks/\"+queryID+\".xnet\")"
   ]
  },
  {
   "cell_type": "code",
   "execution_count": null,
   "metadata": {},
   "outputs": [],
   "source": []
  }
 ],
 "metadata": {
  "kernelspec": {
   "display_name": "Python 3",
   "language": "python",
   "name": "python3"
  },
  "language_info": {
   "codemirror_mode": {
    "name": "ipython",
    "version": 3
   },
   "file_extension": ".py",
   "mimetype": "text/x-python",
   "name": "python",
   "nbconvert_exporter": "python",
   "pygments_lexer": "ipython3",
   "version": "3.7.3"
  }
 },
 "nbformat": 4,
 "nbformat_minor": 4
}
